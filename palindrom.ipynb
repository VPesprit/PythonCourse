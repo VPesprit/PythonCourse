{
 "cells": [
  {
   "cell_type": "code",
   "execution_count": 62,
   "metadata": {},
   "outputs": [
    {
     "name": "stdout",
     "output_type": "stream",
     "text": [
      "Всего палиндромов: 5\n",
      "Файл output.txt создан!\n"
     ]
    }
   ],
   "source": [
    "cnt=0\n",
    "output=[]\n",
    "def palindrom(fname):\n",
    "    file1 = open(fname, \"r\",encoding=\"utf-8\")\n",
    "    for line in file1:\n",
    "        rev=line[::-1]\n",
    "        if line.upper().strip()==rev.upper().strip():\n",
    "            global cnt\n",
    "            cnt+=1\n",
    "            global output\n",
    "            output.append(line.strip())\n",
    "    file1.close()\n",
    "    print('Всего палиндромов:',cnt)\n",
    "    file2 = open('output.txt', \"w\")\n",
    "    for i in output:\n",
    "        file2.write(i)\n",
    "        file2.write('\\n') \n",
    "    file2.close()\n",
    "    print('Файл output.txt создан!')\n",
    "palindrom('text.txt') "
   ]
  }
 ],
 "metadata": {
  "kernelspec": {
   "display_name": "Python 3",
   "language": "python",
   "name": "python3"
  },
  "language_info": {
   "codemirror_mode": {
    "name": "ipython",
    "version": 3
   },
   "file_extension": ".py",
   "mimetype": "text/x-python",
   "name": "python",
   "nbconvert_exporter": "python",
   "pygments_lexer": "ipython3",
   "version": "3.10.9"
  },
  "orig_nbformat": 4,
  "vscode": {
   "interpreter": {
    "hash": "7c37aad69b98a8fb4ef60800ad87beef382df7f27a67bc6e2d5bdae8341cd72d"
   }
  }
 },
 "nbformat": 4,
 "nbformat_minor": 2
}
