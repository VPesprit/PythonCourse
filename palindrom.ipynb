{
 "cells": [
  {
   "cell_type": "code",
   "execution_count": 17,
   "metadata": {},
   "outputs": [
    {
     "name": "stdout",
     "output_type": "stream",
     "text": [
      "Всего палиндромов: 3\n",
      "Файл output.txt создан!\n"
     ]
    }
   ],
   "source": [
    "def palindrom(fname):\n",
    "    cnt=0\n",
    "    output=[]\n",
    "    file1 = open(fname, \"r\",encoding=\"utf-8\")\n",
    "    for line in file1:\n",
    "        rev=line[::-1]\n",
    "        if line.upper().strip()==rev.upper().strip():\n",
    "            cnt+=1\n",
    "            output.append(line.strip())\n",
    "    file1.close()\n",
    "    file2 = open('output.txt', \"w\")\n",
    "    for i in output:\n",
    "        file2.write(i)\n",
    "        file2.write('\\n') \n",
    "    file2.close()\n",
    "    print('Всего палиндромов:',cnt)\n",
    "    print('Файл output.txt создан!')\n",
    "\n",
    "\n",
    "palindrom('text2.txt') "
   ]
  }
 ],
 "metadata": {
  "kernelspec": {
   "display_name": "Python 3",
   "language": "python",
   "name": "python3"
  },
  "language_info": {
   "codemirror_mode": {
    "name": "ipython",
    "version": 3
   },
   "file_extension": ".py",
   "mimetype": "text/x-python",
   "name": "python",
   "nbconvert_exporter": "python",
   "pygments_lexer": "ipython3",
   "version": "3.10.9 (tags/v3.10.9:1dd9be6, Dec  6 2022, 20:01:21) [MSC v.1934 64 bit (AMD64)]"
  },
  "orig_nbformat": 4,
  "vscode": {
   "interpreter": {
    "hash": "8a428b3695a90ee7c15c0628fa262d76b21baa7c9965d6595f96401a431dbe06"
   }
  }
 },
 "nbformat": 4,
 "nbformat_minor": 2
}
