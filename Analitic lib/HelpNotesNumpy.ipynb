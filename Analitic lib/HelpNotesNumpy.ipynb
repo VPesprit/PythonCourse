{
 "cells": [
  {
   "attachments": {},
   "cell_type": "markdown",
   "metadata": {},
   "source": [
    "# Numpy Cheat Sheet \n",
    "<hr>"
   ]
  },
  {
   "cell_type": "code",
   "execution_count": 1,
   "metadata": {},
   "outputs": [],
   "source": [
    "import numpy as np #импорт, подключение библиотеки"
   ]
  },
  {
   "cell_type": "code",
   "execution_count": 7,
   "metadata": {},
   "outputs": [
    {
     "name": "stdout",
     "output_type": "stream",
     "text": [
      "[1 2 3 4 5 6 7 8]\n"
     ]
    },
    {
     "data": {
      "text/plain": [
       "dtype('int32')"
      ]
     },
     "execution_count": 7,
     "metadata": {},
     "output_type": "execute_result"
    }
   ],
   "source": [
    "data=[1,2,3,4,5,6,7,8]\n",
    "array=np.array(data) # создали одномерный массив и запихнули в него данные\n",
    "print(array)\n",
    "array.shape #шейп массива\n",
    "array.dtype #тип элементов"
   ]
  },
  {
   "attachments": {},
   "cell_type": "markdown",
   "metadata": {},
   "source": [
    "Типы данных NUMPY int64,int32,float32,float64,complex,bool,obj,str,unicode"
   ]
  },
  {
   "cell_type": "code",
   "execution_count": 15,
   "metadata": {},
   "outputs": [
    {
     "data": {
      "text/plain": [
       "dtype('float64')"
      ]
     },
     "execution_count": 15,
     "metadata": {},
     "output_type": "execute_result"
    }
   ],
   "source": [
    "array.dtype\n",
    "array2=np.array(data,dtype=np.float64) #преобразование типов данных\n",
    "array2.dtype"
   ]
  },
  {
   "attachments": {},
   "cell_type": "markdown",
   "metadata": {},
   "source": [
    "ПОТЕРЯ ДАННЫХ"
   ]
  },
  {
   "cell_type": "code",
   "execution_count": 19,
   "metadata": {},
   "outputs": [
    {
     "name": "stdout",
     "output_type": "stream",
     "text": [
      "[  1   2 129 256]\n",
      "[   1    2 -127    0]\n"
     ]
    }
   ],
   "source": [
    "data2=[1,2,129,256]\n",
    "array3=np.array(data2)\n",
    "print(array3)\n",
    "array3=np.array(data2,dtype=np.int8)  \n",
    "print(array3)"
   ]
  },
  {
   "cell_type": "code",
   "execution_count": 23,
   "metadata": {},
   "outputs": [
    {
     "name": "stdout",
     "output_type": "stream",
     "text": [
      "4\n",
      "size 4\n"
     ]
    }
   ],
   "source": [
    "print(len(array3)) #Длина массива\n",
    "print('size',array3.size) #Размер масссива"
   ]
  },
  {
   "attachments": {},
   "cell_type": "markdown",
   "metadata": {},
   "source": [
    "Приведение элементов массива к типу"
   ]
  },
  {
   "cell_type": "code",
   "execution_count": 26,
   "metadata": {},
   "outputs": [
    {
     "name": "stdout",
     "output_type": "stream",
     "text": [
      "[   1    2 -127    0]\n"
     ]
    },
    {
     "data": {
      "text/plain": [
       "dtype('int32')"
      ]
     },
     "execution_count": 26,
     "metadata": {},
     "output_type": "execute_result"
    }
   ],
   "source": [
    "array3=array3.astype(np.int32)\n",
    "print(array3)\n",
    "array3.dtype"
   ]
  },
  {
   "cell_type": "code",
   "execution_count": 39,
   "metadata": {},
   "outputs": [
    {
     "name": "stdout",
     "output_type": "stream",
     "text": [
      "float64\n",
      "[1.  2.5 4.  5.5 7.  8.5]\n",
      "[ 1  2  3  4  5  6  7  8  9 10]\n"
     ]
    }
   ],
   "source": [
    "array4=np.arange(1.0,10.0,1.5) #Заполнение массива (Start,Stop,Step)\n",
    "print(array4.dtype)\n",
    "print(array4)\n",
    "array5=np.linspace(1,10,10) #Заполнение массива (Start,Stop,Count)\n",
    "print(array5)"
   ]
  },
  {
   "cell_type": "code",
   "execution_count": 58,
   "metadata": {},
   "outputs": [
    {
     "name": "stderr",
     "output_type": "stream",
     "text": [
      "C:\\Users\\vpesp\\AppData\\Local\\Temp\\ipykernel_12772\\3895639849.py:3: DeprecationWarning: This function is deprecated. Please call randint(1, 10 + 1) instead\n",
      "  array8=np.random.random_integers(1,10,7) #Рандомные 7 значений в диапазоне от 1 до 10\n"
     ]
    },
    {
     "data": {
      "text/plain": [
       "-1.828895332311456"
      ]
     },
     "execution_count": 58,
     "metadata": {},
     "output_type": "execute_result"
    }
   ],
   "source": [
    "array6=np.random.random_sample(6) #Рандомные 6 значений\n",
    "array7=np.random.random(7)\n",
    "array8=np.random.random_integers(1,10,7) #Рандомные 7 значений в диапазоне от 1 до 10\n",
    "array9=np.random.randn() #Рандомные float числа"
   ]
  },
  {
   "attachments": {},
   "cell_type": "markdown",
   "metadata": {},
   "source": [
    "Математические функции"
   ]
  },
  {
   "cell_type": "code",
   "execution_count": 66,
   "metadata": {},
   "outputs": [
    {
     "data": {
      "text/plain": [
       "array([2.71828183e+00, 1.21824940e+01, 5.45981500e+01, 2.44691932e+02,\n",
       "       1.09663316e+03, 4.91476884e+03])"
      ]
     },
     "execution_count": 66,
     "metadata": {},
     "output_type": "execute_result"
    }
   ],
   "source": [
    "array10=np.array([4,16,64])\n",
    "array10=np.sqrt(array10) #Корень квадратный\n",
    "array10=np.log(array10) #Логарифм\n",
    "array10=np.cos(array4) #Косинус\n",
    "array10=np.exp(array4) #Экспонента\n",
    "array10"
   ]
  },
  {
   "attachments": {},
   "cell_type": "markdown",
   "metadata": {},
   "source": [
    "Операции с массивами"
   ]
  },
  {
   "cell_type": "code",
   "execution_count": 116,
   "metadata": {},
   "outputs": [
    {
     "data": {
      "text/plain": [
       "2.0"
      ]
     },
     "execution_count": 116,
     "metadata": {},
     "output_type": "execute_result"
    }
   ],
   "source": [
    "array11=np.array([1,2,3])\n",
    "array12=np.array([1,2,3])\n",
    "np.add(array11,array12) #Сложение\n",
    "np.subtract(array11,array12) #Вычитание , а еще есть np.divide, np.multiply\n",
    "np.min(array11)\n",
    "np.max(array11)\n",
    "np.mean(array11)\n",
    "np.sum(array11)\n",
    "np.std(array11)\n",
    "np.median(array11)"
   ]
  },
  {
   "cell_type": "code",
   "execution_count": 117,
   "metadata": {},
   "outputs": [
    {
     "data": {
      "text/plain": [
       "array([False,  True, False])"
      ]
     },
     "execution_count": 117,
     "metadata": {},
     "output_type": "execute_result"
    }
   ],
   "source": [
    "array11==2 #Условия для элементов массива"
   ]
  },
  {
   "cell_type": "code",
   "execution_count": 119,
   "metadata": {},
   "outputs": [
    {
     "data": {
      "text/plain": [
       "array([ 1,  2, 88, 88,  3])"
      ]
     },
     "execution_count": 119,
     "metadata": {},
     "output_type": "execute_result"
    }
   ],
   "source": [
    "array11=np.insert(array11,2,88)\n",
    "array11\n",
    "#array11=np.delete(array11,2)\n",
    "array11"
   ]
  },
  {
   "cell_type": "code",
   "execution_count": 146,
   "metadata": {},
   "outputs": [
    {
     "name": "stdout",
     "output_type": "stream",
     "text": [
      "[1 2 3 4 5 6]\n"
     ]
    },
    {
     "name": "stderr",
     "output_type": "stream",
     "text": [
      "C:\\Users\\vpesp\\AppData\\Local\\Temp\\ipykernel_12772\\2250085311.py:1: DeprecationWarning: This function is deprecated. Please call randint(1, 10 + 1) instead\n",
      "  array13=np.random.random_integers(1,10,7)\n"
     ]
    }
   ],
   "source": [
    "\n",
    "array13=np.random.random_integers(1,10,7)\n",
    "array13=np.sort(array13) #Сортировка\n",
    "array16=np.array([0,0,0]).astype(np.int32)\n",
    "array17=np.array([1,2,3,4,5,6]).astype(np.int32)\n",
    "array18=np.array_split(array17,3)\n",
    "\n",
    "\n"
   ]
  },
  {
   "cell_type": "code",
   "execution_count": 149,
   "metadata": {},
   "outputs": [
    {
     "name": "stdout",
     "output_type": "stream",
     "text": [
      "[3 4]\n"
     ]
    }
   ],
   "source": [
    "array19=np.array([1,2,3,4,5,6])\n",
    "print(array19[2:4])"
   ]
  },
  {
   "attachments": {},
   "cell_type": "markdown",
   "metadata": {},
   "source": [
    "МНОГОМЕРНЫЕ МАССИВЫ"
   ]
  },
  {
   "cell_type": "code",
   "execution_count": 174,
   "metadata": {},
   "outputs": [
    {
     "name": "stdout",
     "output_type": "stream",
     "text": [
      "1 2 3 4 \n",
      "5 6 \n",
      "7 8 9 \n"
     ]
    }
   ],
   "source": [
    "array20=np.array([[1,2,3,4],[1,2,3,4],[1,2,3,4]])\n",
    "np.max(array20,axis=0)\n",
    "a = [[1, 2, 3, 4], [5,6,7,8], [7, 8, 9]]\n",
    "for i in range(len(a)):\n",
    "    for j in range(len(a[i])):\n",
    "        print(a[i][j], end=' ')\n",
    "    print()\n",
    "\n"
   ]
  }
 ],
 "metadata": {
  "kernelspec": {
   "display_name": "Python 3",
   "language": "python",
   "name": "python3"
  },
  "language_info": {
   "codemirror_mode": {
    "name": "ipython",
    "version": 3
   },
   "file_extension": ".py",
   "mimetype": "text/x-python",
   "name": "python",
   "nbconvert_exporter": "python",
   "pygments_lexer": "ipython3",
   "version": "3.10.9"
  },
  "orig_nbformat": 4,
  "vscode": {
   "interpreter": {
    "hash": "8a428b3695a90ee7c15c0628fa262d76b21baa7c9965d6595f96401a431dbe06"
   }
  }
 },
 "nbformat": 4,
 "nbformat_minor": 2
}
