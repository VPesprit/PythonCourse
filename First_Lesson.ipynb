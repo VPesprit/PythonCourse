{
 "cells": [
  {
   "cell_type": "code",
   "execution_count": 4,
   "metadata": {},
   "outputs": [
    {
     "name": "stdout",
     "output_type": "stream",
     "text": [
      "Сколько звездочек max?\n",
      "**********************\n",
      "*********************\n",
      "********************\n",
      "*******************\n",
      "******************\n",
      "*****************\n",
      "****************\n",
      "***************\n",
      "**************\n",
      "*************\n",
      "************\n",
      "***********\n",
      "**********\n",
      "*********\n",
      "********\n",
      "*******\n",
      "******\n",
      "*****\n",
      "****\n",
      "***\n",
      "**\n",
      "*\n"
     ]
    }
   ],
   "source": [
    "#Звездочки \n",
    "print(\"Сколько звездочек max?\")\n",
    "n=int(input())\n",
    "a=\"*\"*(n+1)\n",
    "for i in range(1,len(a),1):\n",
    "    print(a[i:])\n"
   ]
  },
  {
   "cell_type": "code",
   "execution_count": 2,
   "metadata": {},
   "outputs": [
    {
     "name": "stdout",
     "output_type": "stream",
     "text": [
      "Введи N:\n",
      "[0, 1, 1, 2, 3, 5, 8, 13, 21, 34, 55, 89]\n"
     ]
    }
   ],
   "source": [
    "#Вывести первые n чисел Фибоначчи\n",
    "print(\"Введи N:\")\n",
    "n=int(input())\n",
    "a=[0,1]\n",
    "for i in range(2,n,1):\n",
    "    a.append(a[i-1]+a[i-2])\n",
    "print(a)"
   ]
  }
 ],
 "metadata": {
  "kernelspec": {
   "display_name": "Python 3",
   "language": "python",
   "name": "python3"
  },
  "language_info": {
   "codemirror_mode": {
    "name": "ipython",
    "version": 3
   },
   "file_extension": ".py",
   "mimetype": "text/x-python",
   "name": "python",
   "nbconvert_exporter": "python",
   "pygments_lexer": "ipython3",
   "version": "3.10.9"
  },
  "orig_nbformat": 4,
  "vscode": {
   "interpreter": {
    "hash": "8a428b3695a90ee7c15c0628fa262d76b21baa7c9965d6595f96401a431dbe06"
   }
  }
 },
 "nbformat": 4,
 "nbformat_minor": 2
}
