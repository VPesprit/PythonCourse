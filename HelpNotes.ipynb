{
 "cells": [
  {
   "attachments": {},
   "cell_type": "markdown",
   "metadata": {},
   "source": [
    "Функция ввода:"
   ]
  },
  {
   "cell_type": "code",
   "execution_count": null,
   "metadata": {},
   "outputs": [],
   "source": [
    "__input__=int(input())\n",
    "__input__=float(input())\n",
    "__input__=str(input())\n",
    "__input__=bool(input())\n"
   ]
  },
  {
   "attachments": {},
   "cell_type": "markdown",
   "metadata": {},
   "source": [
    "Операции с числами:"
   ]
  },
  {
   "cell_type": "code",
   "execution_count": 3,
   "metadata": {},
   "outputs": [
    {
     "name": "stdout",
     "output_type": "stream",
     "text": [
      "1\n"
     ]
    }
   ],
   "source": [
    "a=3\n",
    "b=2\n",
    "result=a+b #5\n",
    "result=a-b #1\n",
    "result=a*b #6\n",
    "result=a/b #1.5\n",
    "result=a**b #9\n",
    "result=a//b #целочисленное деление\n",
    "result=a%b #1\n"
   ]
  },
  {
   "attachments": {},
   "cell_type": "markdown",
   "metadata": {},
   "source": [
    "Работа со строками"
   ]
  },
  {
   "cell_type": "code",
   "execution_count": 15,
   "metadata": {},
   "outputs": [
    {
     "name": "stdout",
     "output_type": "stream",
     "text": [
      "HelloWorld\n",
      "HelloHello\n",
      "hell\n",
      "l\n"
     ]
    }
   ],
   "source": [
    "print(\"Hello\"+\"World\") #конкатенация\n",
    "print(\"Hello\"*2) #Повторение (умножение)\n",
    "a=\"hello\"\n",
    "print(a[:4]) #hell\n",
    "print(a[0]) #h\n"
   ]
  },
  {
   "attachments": {},
   "cell_type": "markdown",
   "metadata": {},
   "source": [
    "Строковые методы"
   ]
  },
  {
   "cell_type": "code",
   "execution_count": 1,
   "metadata": {},
   "outputs": [
    {
     "name": "stdout",
     "output_type": "stream",
     "text": [
      "Hell hello\n",
      "Hell Privet    \n",
      "HELL HELLO\n",
      "hell hello\n",
      "HELL Hello\n",
      "hell pRIVET    \n",
      "hell pRIVET\n",
      "hell pRIVET\n",
      "pRIVET     pRIVET    \n",
      "1\n",
      "2\n"
     ]
    }
   ],
   "source": [
    "a=\"hell hELLO\"\n",
    "print(a.capitalize()) #Одна заглавная, все остальные прописные\n",
    "b=\"hell pRIVET    \"\n",
    "print(b.title()) #Каждое слово с заглавной\n",
    "print(a.upper()) #Верхний регистр\n",
    "print(a.lower()) #Нижний регистр\n",
    "print(a.swapcase()) #В противоположный регистр\n",
    "print(b.lstrip()) #Удаление пробелов в начале\n",
    "print(b.rstrip()) #Удаление пробелов в конце\n",
    "print(b.strip()) #Удаление пробелов и в начале и в конце\n",
    "print(b.replace(a[0:4],b[5:])) #Замена символов одного на другой\n",
    "print(a.count(\"e\")) #Считает символы, которые подаем на вход\n",
    "print(a.find(\"l\")) #Ищет индекс первого совпадения"
   ]
  },
  {
   "attachments": {},
   "cell_type": "markdown",
   "metadata": {},
   "source": [
    "Логические операторы"
   ]
  },
  {
   "cell_type": "code",
   "execution_count": 2,
   "metadata": {},
   "outputs": [
    {
     "name": "stdout",
     "output_type": "stream",
     "text": [
      "yes\n"
     ]
    }
   ],
   "source": [
    "1 and 0 # 0  И логика\n",
    "1 or 0 # 1\n",
    "if 0==0 or 1==1:\n",
    "    print(\"yes\")\n",
    "elif 5>0:\n",
    "    print(\"More\")\n",
    "else:\n",
    "    print(\"less\")\n",
    "\n"
   ]
  },
  {
   "attachments": {},
   "cell_type": "markdown",
   "metadata": {},
   "source": [
    "Списки"
   ]
  },
  {
   "cell_type": "code",
   "execution_count": 3,
   "metadata": {},
   "outputs": [
    {
     "name": "stdout",
     "output_type": "stream",
     "text": [
      "[1, [1, 2, 4, 5, 6, 7, 8, 9]]\n"
     ]
    },
    {
     "data": {
      "text/plain": [
       "9"
      ]
     },
     "execution_count": 3,
     "metadata": {},
     "output_type": "execute_result"
    }
   ],
   "source": [
    "a=[1,2,4,5,6,7,8,9,0]\n",
    "b=[a[0],a[:-1]]\n",
    "print(b)\n",
    "a[-2] #9"
   ]
  },
  {
   "attachments": {},
   "cell_type": "markdown",
   "metadata": {},
   "source": [
    "Методы списков"
   ]
  },
  {
   "cell_type": "code",
   "execution_count": 4,
   "metadata": {},
   "outputs": [
    {
     "name": "stdout",
     "output_type": "stream",
     "text": [
      "[1, 2, 3, 4, 5, 6, 5, 6]\n",
      "[1, 2, 3, 0, 4, 5, 6, 5, 6]\n",
      "[1, 2, 3, 0, 4, 6, 5, 6]\n",
      "[1, 2, 3, 0, 6, 5, 6]\n",
      "4\n"
     ]
    }
   ],
   "source": [
    "a=[1,2,3,4,5,6,5] #добавление в список\n",
    "a.append(6)\n",
    "print(a)  \n",
    "\n",
    "a.insert(3,0) #Вставить в индекс символ\n",
    "print(a)\n",
    "\n",
    "a.remove(5) #Удалить первый совпадающий символ в списке\n",
    "print(a)\n",
    "\n",
    "a.pop(4) #Удаление символа по индексу\n",
    "print(a)\n",
    "\n",
    "print(a.index(6)) #нашел индекс символа"
   ]
  },
  {
   "attachments": {},
   "cell_type": "markdown",
   "metadata": {},
   "source": [
    "Работа со списками"
   ]
  },
  {
   "cell_type": "code",
   "execution_count": 5,
   "metadata": {},
   "outputs": [
    {
     "name": "stdout",
     "output_type": "stream",
     "text": [
      "[1, 2, 3, 4, 4, 5, 6]\n",
      "[6, 5, 4, 4, 3, 2, 1]\n"
     ]
    }
   ],
   "source": [
    "a=[1,3,5,2,4,4,6]\n",
    "a.sort(reverse=False) #Сортировка с параметром\n",
    "print(a)\n",
    "a.count(4)  #Подсчет количества вхождений\n",
    "a.reverse() #Реверс списка\n",
    "print(a)   "
   ]
  },
  {
   "attachments": {},
   "cell_type": "markdown",
   "metadata": {},
   "source": [
    "Словари (Пара - ключ и значение)"
   ]
  },
  {
   "cell_type": "code",
   "execution_count": 6,
   "metadata": {},
   "outputs": [
    {
     "name": "stdout",
     "output_type": "stream",
     "text": [
      "{'Мастер и Маргарита': 1, 'Алфавит': 2}\n"
     ]
    }
   ],
   "source": [
    "a={\"Мастер и Маргарита\":1\n",
    "    ,\"Алфавит\":2}\n",
    "print(a)"
   ]
  },
  {
   "attachments": {},
   "cell_type": "markdown",
   "metadata": {},
   "source": [
    "Методы словарей"
   ]
  },
  {
   "cell_type": "code",
   "execution_count": 7,
   "metadata": {},
   "outputs": [
    {
     "name": "stdout",
     "output_type": "stream",
     "text": [
      "{'Мастер и Маргарита': 1, 'Алфавит': 2}\n"
     ]
    },
    {
     "data": {
      "text/plain": [
       "dict_items([('Мастер и Маргарита', 1), ('Алфавит', 2)])"
      ]
     },
     "execution_count": 7,
     "metadata": {},
     "output_type": "execute_result"
    }
   ],
   "source": [
    "a={\"Мастер и Маргарита\":1\n",
    "    ,\"Алфавит\":2}\n",
    "b={}\n",
    "\n",
    "a.copy() #возвращает копию словаря\n",
    "b=dict.copy(a)\n",
    "print(b)\n",
    "#a.clear() можно еще очистить\n",
    "dict.items(b)                   #разобраться с этим ------!\n",
    "\n"
   ]
  },
  {
   "attachments": {},
   "cell_type": "markdown",
   "metadata": {},
   "source": [
    "Циклы"
   ]
  },
  {
   "cell_type": "code",
   "execution_count": 8,
   "metadata": {},
   "outputs": [
    {
     "name": "stdout",
     "output_type": "stream",
     "text": [
      "1\n",
      "3\n",
      "5\n",
      "7\n",
      "9\n",
      "11\n",
      "13\n",
      "15\n",
      "17\n",
      "19\n",
      "1\n",
      "3\n",
      "5\n",
      "7\n",
      "9\n",
      "11\n",
      "13\n",
      "15\n",
      "17\n",
      "19\n"
     ]
    }
   ],
   "source": [
    "for i in range(1,20,2):\n",
    "    print(i)\n",
    "\n",
    "i=1\n",
    "while i <20:\n",
    "    print(i)\n",
    "    i+=2"
   ]
  },
  {
   "attachments": {},
   "cell_type": "markdown",
   "metadata": {},
   "source": [
    "Функции"
   ]
  },
  {
   "cell_type": "code",
   "execution_count": 9,
   "metadata": {},
   "outputs": [
    {
     "data": {
      "text/plain": [
       "'Hello,Anatoly'"
      ]
     },
     "execution_count": 9,
     "metadata": {},
     "output_type": "execute_result"
    }
   ],
   "source": [
    "def name(a):\n",
    "    return \"Hello,\"+a\n",
    "\n",
    "name(\"Anatoly\")"
   ]
  }
 ],
 "metadata": {
  "kernelspec": {
   "display_name": "Python 3",
   "language": "python",
   "name": "python3"
  },
  "language_info": {
   "codemirror_mode": {
    "name": "ipython",
    "version": 3
   },
   "file_extension": ".py",
   "mimetype": "text/x-python",
   "name": "python",
   "nbconvert_exporter": "python",
   "pygments_lexer": "ipython3",
   "version": "3.10.9 (tags/v3.10.9:1dd9be6, Dec  6 2022, 20:01:21) [MSC v.1934 64 bit (AMD64)]"
  },
  "orig_nbformat": 4,
  "vscode": {
   "interpreter": {
    "hash": "8a428b3695a90ee7c15c0628fa262d76b21baa7c9965d6595f96401a431dbe06"
   }
  }
 },
 "nbformat": 4,
 "nbformat_minor": 2
}
